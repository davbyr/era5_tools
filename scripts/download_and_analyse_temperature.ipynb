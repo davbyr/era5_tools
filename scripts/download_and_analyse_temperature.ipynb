{
 "cells": [
  {
   "cell_type": "code",
   "execution_count": null,
   "id": "7f45b165-dccb-4a50-abe2-435a24256876",
   "metadata": {
    "tags": []
   },
   "outputs": [],
   "source": [
    "%load_ext autoreload\n",
    "%autoreload 2\n",
    "#!/usr/bin/env python3\n",
    "import cdsapi\n",
    "import os\n",
    "import numpy as np\n",
    "import subprocess\n",
    "import era5_tools\n",
    "import xarray as xr"
   ]
  },
  {
   "cell_type": "code",
   "execution_count": null,
   "id": "98779cc1-2134-4ca5-af01-1fab6071210c",
   "metadata": {
    "tags": []
   },
   "outputs": [],
   "source": [
    "def monthly_stats( fp ):\n",
    "    '''\n",
    "    Functions to pass to era5_tools.download_multiple_months().\n",
    "    This will calculate the min, max and mean over each downloaded file.\n",
    "    '''\n",
    "    \n",
    "    # Open the dataset for the input file\n",
    "    ds = xr.open_dataset(fp, chunks = {'time':1000})['t2m']\n",
    "    \n",
    "    # Calculate min and max over all data\n",
    "    ds_max = ds.max(dim='time')\n",
    "    ds_min = ds.min(dim='time')\n",
    "    ds_mean = ds.mean(dim='time')\n",
    "    ds_dailymax = ds.resample(time = '1D').max\n",
    "    ds_dailymin = ds.resample(time = '1D').min\n",
    "    ds_dailymean = ds.resample(time = '1D').mean()\n",
    "    ds_mean_maxima = ds_dailymax.mean(dim='time')\n",
    "    ds_mean_minima = ds_dailymin.mean(dim='time')\n",
    "\n",
    "    # Create output dataset and assign variables\n",
    "    ds_out = xr.Dataset()\n",
    "    ds_out['t2m_mean_maxima'] = ds_mean_maxima\n",
    "    ds_out['t2m_mean_minima'] = ds_mean_minima\n",
    "    ds_out['t2m_mean'] = ds_mean\n",
    "    ds_out['t2m_max'] = ds_max\n",
    "    ds_out['t2m_min'] = ds_min\n",
    "    return ds_out"
   ]
  },
  {
   "cell_type": "code",
   "execution_count": null,
   "id": "2e603fc7-9d33-44cc-87e2-807e932a8a4f",
   "metadata": {
    "tags": []
   },
   "outputs": [],
   "source": [
    "dp_out = '../data/era5'\n",
    "era5_tools.download_multiple_months('2m_temperature', dp_out, 2000, 2015, \n",
    "                                    apply_func=monthly_stats, \n",
    "                                    func_name='monthly_stats',\n",
    "                                    delete_after_func=True)"
   ]
  },
  {
   "cell_type": "code",
   "execution_count": null,
   "id": "2390f1eb-b982-4cc1-97f4-7094c9944aad",
   "metadata": {},
   "outputs": [],
   "source": []
  }
 ],
 "metadata": {
  "kernelspec": {
   "display_name": "Python 3 (ipykernel)",
   "language": "python",
   "name": "python3"
  },
  "language_info": {
   "codemirror_mode": {
    "name": "ipython",
    "version": 3
   },
   "file_extension": ".py",
   "mimetype": "text/x-python",
   "name": "python",
   "nbconvert_exporter": "python",
   "pygments_lexer": "ipython3",
   "version": "3.11.3"
  }
 },
 "nbformat": 4,
 "nbformat_minor": 5
}
