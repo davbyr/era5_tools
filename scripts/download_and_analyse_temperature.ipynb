{
 "cells": [
  {
   "cell_type": "code",
   "execution_count": 1,
   "id": "7f45b165-dccb-4a50-abe2-435a24256876",
   "metadata": {
    "tags": []
   },
   "outputs": [],
   "source": [
    "%load_ext autoreload\n",
    "%autoreload 2\n",
    "#!/usr/bin/env python3\n",
    "import cdsapi\n",
    "import os\n",
    "import numpy as np\n",
    "import subprocess\n",
    "import era5_tools\n",
    "import xarray as xr"
   ]
  },
  {
   "cell_type": "code",
   "execution_count": 2,
   "id": "98779cc1-2134-4ca5-af01-1fab6071210c",
   "metadata": {
    "tags": []
   },
   "outputs": [],
   "source": [
    "def monthly_stats( fp ):\n",
    "    '''\n",
    "    Functions to pass to era5_tools.download_multiple_months().\n",
    "    This will calculate the min, max and mean over each downloaded file.\n",
    "    '''\n",
    "    \n",
    "    # Open the dataset for the input file\n",
    "    ds = xr.open_dataset(fp, chunks = {'time':1000})['t2m']\n",
    "    \n",
    "    # Calculate min and max over all data\n",
    "    ds_max = ds.max(dim='time')\n",
    "    ds_min = ds.min(dim='time')\n",
    "    ds_mean = ds.mean(dim='time')\n",
    "    ds_dailymax = ds.resample(time = '1D').max()\n",
    "    ds_dailymin = ds.resample(time = '1D').min()\n",
    "    ds_dailymean = ds.resample(time = '1D').mean()\n",
    "    ds_mean_maxima = ds_dailymax.mean(dim='time')\n",
    "    ds_mean_minima = ds_dailymin.mean(dim='time')\n",
    "\n",
    "    # Create output dataset and assign variables\n",
    "    ds_out = xr.Dataset()\n",
    "    ds_out['t2m_mean_maxima'] = ds_mean_maxima\n",
    "    ds_out['t2m_mean_minima'] = ds_mean_minima\n",
    "    ds_out['t2m_mean'] = ds_mean\n",
    "    ds_out['t2m_max'] = ds_max\n",
    "    ds_out['t2m_min'] = ds_min\n",
    "    return ds_out"
   ]
  },
  {
   "cell_type": "code",
   "execution_count": 3,
   "id": "2e603fc7-9d33-44cc-87e2-807e932a8a4f",
   "metadata": {
    "tags": []
   },
   "outputs": [
    {
     "name": "stderr",
     "output_type": "stream",
     "text": [
      "2023-04-26 19:15:39,125 INFO Welcome to the CDS\n",
      "2023-04-26 19:15:39,126 INFO Sending request to https://cds.climate.copernicus.eu/api/v2/resources/reanalysis-era5-single-levels\n"
     ]
    },
    {
     "name": "stdout",
     "output_type": "stream",
     "text": [
      "2m_temperature ../data/era5 2000 01 reanalysis-era5-single-levels\n",
      "=========================================================\n",
      "Downloading y2000m01\n",
      "Output filename: ../data/era5/2m_temperature_y2000m01.nc\n"
     ]
    },
    {
     "name": "stderr",
     "output_type": "stream",
     "text": [
      "2023-04-26 19:15:39,218 INFO Request is completed\n",
      "2023-04-26 19:15:39,219 INFO Downloading https://download-0001-clone.copernicus-climate.eu/cache-compute-0001/cache/data3/adaptor.mars.internal-1682536255.47655-15025-4-33621a69-7e34-4deb-8534-c6e4c088cf42.nc to ../data/era5/2m_temperature_y2000m01.nc (1.4G)\n",
      "2023-04-26 19:16:14,779 INFO Download rate 41.4M/s  \n"
     ]
    },
    {
     "ename": "AttributeError",
     "evalue": "'function' object has no attribute 'mean'",
     "output_type": "error",
     "traceback": [
      "\u001b[0;31m---------------------------------------------------------------------------\u001b[0m",
      "\u001b[0;31mAttributeError\u001b[0m                            Traceback (most recent call last)",
      "Cell \u001b[0;32mIn[3], line 2\u001b[0m\n\u001b[1;32m      1\u001b[0m dp_out \u001b[38;5;241m=\u001b[39m \u001b[38;5;124m'\u001b[39m\u001b[38;5;124m../data/era5\u001b[39m\u001b[38;5;124m'\u001b[39m\n\u001b[0;32m----> 2\u001b[0m \u001b[43mera5_tools\u001b[49m\u001b[38;5;241;43m.\u001b[39;49m\u001b[43mdownload_multiple_months\u001b[49m\u001b[43m(\u001b[49m\u001b[38;5;124;43m'\u001b[39;49m\u001b[38;5;124;43m2m_temperature\u001b[39;49m\u001b[38;5;124;43m'\u001b[39;49m\u001b[43m,\u001b[49m\u001b[43m \u001b[49m\u001b[43mdp_out\u001b[49m\u001b[43m,\u001b[49m\u001b[43m \u001b[49m\u001b[38;5;241;43m2000\u001b[39;49m\u001b[43m,\u001b[49m\u001b[43m \u001b[49m\u001b[38;5;241;43m2015\u001b[39;49m\u001b[43m,\u001b[49m\u001b[43m \u001b[49m\n\u001b[1;32m      3\u001b[0m \u001b[43m                                    \u001b[49m\u001b[43mapply_func\u001b[49m\u001b[38;5;241;43m=\u001b[39;49m\u001b[43mmonthly_stats\u001b[49m\u001b[43m,\u001b[49m\u001b[43m \u001b[49m\n\u001b[1;32m      4\u001b[0m \u001b[43m                                    \u001b[49m\u001b[43mfunc_name\u001b[49m\u001b[38;5;241;43m=\u001b[39;49m\u001b[38;5;124;43m'\u001b[39;49m\u001b[38;5;124;43mmonthly_stats\u001b[39;49m\u001b[38;5;124;43m'\u001b[39;49m\u001b[43m,\u001b[49m\n\u001b[1;32m      5\u001b[0m \u001b[43m                                    \u001b[49m\u001b[43mdelete_after_func\u001b[49m\u001b[38;5;241;43m=\u001b[39;49m\u001b[38;5;28;43;01mTrue\u001b[39;49;00m\u001b[43m)\u001b[49m\n",
      "File \u001b[0;32m~/disks/ssd2/era5_tools/src/era5_tools/_monthly_func.py:105\u001b[0m, in \u001b[0;36mdownload_multiple_months\u001b[0;34m(era5_varname, dp_output, year_start, year_end, month, apply_func, func_name, delete_after_func, era5_server)\u001b[0m\n\u001b[1;32m    103\u001b[0m \u001b[38;5;66;03m# Apply function if one was provided\u001b[39;00m\n\u001b[1;32m    104\u001b[0m \u001b[38;5;28;01mif\u001b[39;00m apply_func \u001b[38;5;129;01mis\u001b[39;00m \u001b[38;5;129;01mnot\u001b[39;00m \u001b[38;5;28;01mNone\u001b[39;00m:\n\u001b[0;32m--> 105\u001b[0m     apply_out \u001b[38;5;241m=\u001b[39m \u001b[43mapply_func\u001b[49m\u001b[43m(\u001b[49m\u001b[43m \u001b[49m\u001b[43mfp_ii\u001b[49m\u001b[43m \u001b[49m\u001b[43m)\u001b[49m\n\u001b[1;32m    106\u001b[0m     fp_ii_func \u001b[38;5;241m=\u001b[39m \u001b[38;5;124mf\u001b[39m\u001b[38;5;124m'\u001b[39m\u001b[38;5;132;01m{\u001b[39;00mfp_ii[:\u001b[38;5;241m-\u001b[39m\u001b[38;5;241m3\u001b[39m]\u001b[38;5;132;01m}\u001b[39;00m\u001b[38;5;124m_\u001b[39m\u001b[38;5;132;01m{\u001b[39;00mfunc_name\u001b[38;5;132;01m}\u001b[39;00m\u001b[38;5;124m.nc\u001b[39m\u001b[38;5;124m'\u001b[39m \n\u001b[1;32m    107\u001b[0m     apply_out\u001b[38;5;241m.\u001b[39mto_netcdf(fp_ii_func)\n",
      "Cell \u001b[0;32mIn[2], line 17\u001b[0m, in \u001b[0;36mmonthly_stats\u001b[0;34m(fp)\u001b[0m\n\u001b[1;32m     15\u001b[0m ds_dailymin \u001b[38;5;241m=\u001b[39m ds\u001b[38;5;241m.\u001b[39mresample(time \u001b[38;5;241m=\u001b[39m \u001b[38;5;124m'\u001b[39m\u001b[38;5;124m1D\u001b[39m\u001b[38;5;124m'\u001b[39m)\u001b[38;5;241m.\u001b[39mmin\n\u001b[1;32m     16\u001b[0m ds_dailymean \u001b[38;5;241m=\u001b[39m ds\u001b[38;5;241m.\u001b[39mresample(time \u001b[38;5;241m=\u001b[39m \u001b[38;5;124m'\u001b[39m\u001b[38;5;124m1D\u001b[39m\u001b[38;5;124m'\u001b[39m)\u001b[38;5;241m.\u001b[39mmean()\n\u001b[0;32m---> 17\u001b[0m ds_mean_maxima \u001b[38;5;241m=\u001b[39m \u001b[43mds_dailymax\u001b[49m\u001b[38;5;241;43m.\u001b[39;49m\u001b[43mmean\u001b[49m(dim\u001b[38;5;241m=\u001b[39m\u001b[38;5;124m'\u001b[39m\u001b[38;5;124mtime\u001b[39m\u001b[38;5;124m'\u001b[39m)\n\u001b[1;32m     18\u001b[0m ds_mean_minima \u001b[38;5;241m=\u001b[39m ds_dailymin\u001b[38;5;241m.\u001b[39mmean(dim\u001b[38;5;241m=\u001b[39m\u001b[38;5;124m'\u001b[39m\u001b[38;5;124mtime\u001b[39m\u001b[38;5;124m'\u001b[39m)\n\u001b[1;32m     20\u001b[0m \u001b[38;5;66;03m# Create output dataset and assign variables\u001b[39;00m\n",
      "\u001b[0;31mAttributeError\u001b[0m: 'function' object has no attribute 'mean'"
     ]
    }
   ],
   "source": [
    "dp_out = '../data/era5'\n",
    "era5_tools.download_multiple_months('2m_temperature', dp_out, 2000, 2015, \n",
    "                                    apply_func=monthly_stats, \n",
    "                                    func_name='monthly_stats',\n",
    "                                    delete_after_func=True)"
   ]
  },
  {
   "cell_type": "code",
   "execution_count": null,
   "id": "2390f1eb-b982-4cc1-97f4-7094c9944aad",
   "metadata": {},
   "outputs": [],
   "source": []
  }
 ],
 "metadata": {
  "kernelspec": {
   "display_name": "Python 3 (ipykernel)",
   "language": "python",
   "name": "python3"
  },
  "language_info": {
   "codemirror_mode": {
    "name": "ipython",
    "version": 3
   },
   "file_extension": ".py",
   "mimetype": "text/x-python",
   "name": "python",
   "nbconvert_exporter": "python",
   "pygments_lexer": "ipython3",
   "version": "3.11.3"
  }
 },
 "nbformat": 4,
 "nbformat_minor": 5
}
